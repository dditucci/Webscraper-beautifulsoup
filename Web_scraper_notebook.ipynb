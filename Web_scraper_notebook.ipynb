{
 "cells": [
  {
   "cell_type": "code",
   "execution_count": 1,
   "metadata": {},
   "outputs": [],
   "source": [
    "# Import Libraries\n",
    "\n",
    "import requests\n",
    "from bs4 import BeautifulSoup"
   ]
  },
  {
   "cell_type": "markdown",
   "metadata": {},
   "source": [
    "## Scrape Google Homepage For \"About\" Link"
   ]
  },
  {
   "cell_type": "code",
   "execution_count": 2,
   "metadata": {},
   "outputs": [
    {
     "name": "stdout",
     "output_type": "stream",
     "text": [
      "200\n"
     ]
    }
   ],
   "source": [
    "# Create variable for webpage to be accessed (Google)\n",
    "result = requests.get(\"https://www.google.com/\")\n",
    "\n",
    "# Make sure website is being accessed (200 = good, 404 = bad)\n",
    "print(result.status_code)"
   ]
  },
  {
   "cell_type": "code",
   "execution_count": 4,
   "metadata": {},
   "outputs": [
    {
     "data": {
      "text/plain": [
       "{'Date': 'Fri, 14 Jun 2019 20:05:16 GMT', 'Expires': '-1', 'Cache-Control': 'private, max-age=0', 'Content-Type': 'text/html; charset=ISO-8859-1', 'P3P': 'CP=\"This is not a P3P policy! See g.co/p3phelp for more info.\"', 'Content-Encoding': 'gzip', 'Server': 'gws', 'X-XSS-Protection': '0', 'X-Frame-Options': 'SAMEORIGIN', 'Set-Cookie': '1P_JAR=2019-06-14-20; expires=Sun, 14-Jul-2019 20:05:16 GMT; path=/; domain=.google.com, NID=185=VZyRYyO9Q1SbF5pxx9GrEuMBI49TYEGscHE-yZ5YKQnGne9Aa6sBlEnZ43gG3XkJwZzsccqoluAwbeaD9siCojBwHNAMdcXIaBZOF6tifLMAsWXbwe1d4QOELDUXQle39slmvto5hHPIvUGU6l1ckPM5cEQIapeo4PQo06d-78E; expires=Sat, 14-Dec-2019 20:05:16 GMT; path=/; domain=.google.com; HttpOnly', 'Alt-Svc': 'quic=\":443\"; ma=2592000; v=\"46,44,43,39\"', 'Transfer-Encoding': 'chunked'}"
      ]
     },
     "execution_count": 4,
     "metadata": {},
     "output_type": "execute_result"
    }
   ],
   "source": [
    "# Check HTTP header to make sure the correct page is being accessed\n",
    "print(result.headers)"
   ]
  },
  {
   "cell_type": "code",
   "execution_count": 7,
   "metadata": {
    "scrolled": false
   },
   "outputs": [],
   "source": [
    "# Extract content from page and store in variable\n",
    "src = result.content"
   ]
  },
  {
   "cell_type": "code",
   "execution_count": 9,
   "metadata": {
    "scrolled": false
   },
   "outputs": [],
   "source": [
    "# Create soup object by passing src variable into BeautifulSoup class\n",
    "# This will process the source material to be used with BeautifulSoup module\n",
    "soup = BeautifulSoup(src, 'lxml')"
   ]
  },
  {
   "cell_type": "code",
   "execution_count": 12,
   "metadata": {
    "scrolled": true
   },
   "outputs": [
    {
     "name": "stdout",
     "output_type": "stream",
     "text": [
      "[<a class=\"gb1\" href=\"https://www.google.com/imghp?hl=en&amp;tab=wi\">Images</a>, <a class=\"gb1\" href=\"https://maps.google.com/maps?hl=en&amp;tab=wl\">Maps</a>, <a class=\"gb1\" href=\"https://play.google.com/?hl=en&amp;tab=w8\">Play</a>, <a class=\"gb1\" href=\"https://www.youtube.com/?gl=US&amp;tab=w1\">YouTube</a>, <a class=\"gb1\" href=\"https://news.google.com/nwshp?hl=en&amp;tab=wn\">News</a>, <a class=\"gb1\" href=\"https://mail.google.com/mail/?tab=wm\">Gmail</a>, <a class=\"gb1\" href=\"https://drive.google.com/?tab=wo\">Drive</a>, <a class=\"gb1\" href=\"https://www.google.com/intl/en/about/products?tab=wh\" style=\"text-decoration:none\"><u>More</u> »</a>, <a class=\"gb4\" href=\"http://www.google.com/history/optout?hl=en\">Web History</a>, <a class=\"gb4\" href=\"/preferences?hl=en\">Settings</a>, <a class=\"gb4\" href=\"https://accounts.google.com/ServiceLogin?hl=en&amp;passive=true&amp;continue=https://www.google.com/\" id=\"gb_70\" target=\"_top\">Sign in</a>, <a href=\"/advanced_search?hl=en&amp;authuser=0\">Advanced search</a>, <a href=\"/language_tools?hl=en&amp;authuser=0\">Language tools</a>, <a href=\"/intl/en/ads/\">Advertising Programs</a>, <a href=\"/services/\">Business Solutions</a>, <a href=\"/intl/en/about.html\">About Google</a>, <a href=\"/intl/en/policies/privacy/\">Privacy</a>, <a href=\"/intl/en/policies/terms/\">Terms</a>]\n"
     ]
    }
   ],
   "source": [
    "# Find all links on the page by finding HTML \"a\" tags\n",
    "links = soup.find_all('a')\n",
    "print(links)"
   ]
  },
  {
   "cell_type": "code",
   "execution_count": 13,
   "metadata": {},
   "outputs": [
    {
     "name": "stdout",
     "output_type": "stream",
     "text": [
      "<a href=\"/intl/en/about.html\">About Google</a>\n",
      "/intl/en/about.html\n"
     ]
    }
   ],
   "source": [
    "# Extract certain desired links (Links with word \"About\" in this example)\n",
    "# Loop through all links in var \"links\"\n",
    "for link in links:\n",
    "    if \"About\" in link.text:  # See if \"About\" is in the text\n",
    "        print(link)           # Print link if it contains \"About\"\n",
    "        print(link.attrs[\"href\"]) # Print href attribute for link with \"About\"\n",
    "    "
   ]
  },
  {
   "cell_type": "markdown",
   "metadata": {},
   "source": [
    "## Scrape White House Briefings & Statements Page for Links"
   ]
  },
  {
   "cell_type": "code",
   "execution_count": 14,
   "metadata": {},
   "outputs": [],
   "source": [
    "# Store webpage to be accessed in variable\n",
    "result = requests.get(\"https://www.whitehouse.gov/briefings-statements/\")\n",
    "# Store content from that webpage\n",
    "src = result.content\n",
    "# Process content with BeautifulSoup module\n",
    "soup = BeautifulSoup(src, 'lxml')"
   ]
  },
  {
   "cell_type": "code",
   "execution_count": 15,
   "metadata": {},
   "outputs": [
    {
     "data": {
      "text/plain": [
       "['https://www.whitehouse.gov/briefings-statements/president-donald-j-trump-working-improve-health-insurance-coverage-american-workers-help-small-businesses/',\n",
       " 'https://www.whitehouse.gov/briefings-statements/new-annual-data-released-white-house-office-national-drug-control-policy-shows-poppy-cultivation-potential-heroin-production-remain-record-high-levels-mexico/',\n",
       " 'https://www.whitehouse.gov/briefings-statements/statement-press-secretary-visit-prime-minister-justin-trudeau-canada/',\n",
       " 'https://www.whitehouse.gov/briefings-statements/presidential-message-244th-birthday-united-states-army/',\n",
       " 'https://www.whitehouse.gov/briefings-statements/remarks-president-trump-second-chance-hiring/',\n",
       " 'https://www.whitehouse.gov/briefings-statements/remarks-president-trump-working-lunch-governors-workforce-freedom-mobility/',\n",
       " 'https://www.whitehouse.gov/briefings-statements/remarks-vice-president-pence-press-gaggle-5/',\n",
       " 'https://www.whitehouse.gov/briefings-statements/remarks-vice-president-pence-yellowstone-national-park/',\n",
       " 'https://www.whitehouse.gov/briefings-statements/president-donald-j-trump-helping-americans-gain-second-chance-build-brighter-future/',\n",
       " 'https://www.whitehouse.gov/briefings-statements/message-congress-continuation-national-emergency-respect-belarus/']"
      ]
     },
     "execution_count": 15,
     "metadata": {},
     "output_type": "execute_result"
    }
   ],
   "source": [
    "# Create list to store links we find\n",
    "urls = []\n",
    "\n",
    "# All links on this page are under an \"h2\" HTML heading\n",
    "for h2_tag in soup.find_all(\"h2\"):  # find h2 tags (all h2 headings)\n",
    "    a_tag = h2_tag.find('a') # find 'a' tag inside h2 tag (actual link)\n",
    "    urls.append(a_tag.attrs[\"href\"]) # add link to urls list starting with \"href\" tag\n",
    "\n",
    "# Make sure list is populated\n",
    "urls"
   ]
  },
  {
   "cell_type": "markdown",
   "metadata": {},
   "source": [
    "## Create and Use BeautifulSoup Objects to Extract Content"
   ]
  },
  {
   "cell_type": "markdown",
   "metadata": {},
   "source": [
    "#### Create a \"webpage\""
   ]
  },
  {
   "cell_type": "code",
   "execution_count": 17,
   "metadata": {},
   "outputs": [],
   "source": [
    "# Create basic/fake HTML site to use for this exercise\n",
    "html_doc = \"\"\"\n",
    "<html><head><title>The Dormouse's story</title></head>\n",
    "<body>\n",
    "<p class=\"title\"><b>The Dormouse's story</b></p>\n",
    "<p class=\"story\">Once upon a time there were three little sisters; their names:\n",
    "<a href=\"http://example.com/elsie\" class=\"sister\" id=\"link1\">Elsie</a>,\n",
    "<a href=\"http://example.com/lacie\" class=\"sister\" id=\"link2\">Lacie</a> and\n",
    "<a href=\"http://example.com/tillie\" class=\"sister\" id=\"link3\">Tillie</a>;\n",
    "and they lived at the bottom of a well.</p>\n",
    "<p class=\"story\">...</p>\n",
    "<b class=\"boldest\">Extremely bold</b>\n",
    "<blockquote class=\"boldest\">Extremely bold</blockquote>\n",
    "<b id=\"1\">Test 1</b>\n",
    "<b another-attribute=\"1\" id=\"verybold\">Test 2</b>\n",
    "\"\"\"\n",
    "\n",
    "# Save file (\"publish\" webpage) \n",
    "with open('index.html', 'w') as f:\n",
    "    f.write(html_doc)"
   ]
  },
  {
   "cell_type": "markdown",
   "metadata": {},
   "source": [
    "#### View HTML for created \"webpage\""
   ]
  },
  {
   "cell_type": "code",
   "execution_count": 18,
   "metadata": {},
   "outputs": [
    {
     "name": "stdout",
     "output_type": "stream",
     "text": [
      "<html>\n",
      " <head>\n",
      "  <title>\n",
      "   The Dormouse's story\n",
      "  </title>\n",
      " </head>\n",
      " <body>\n",
      "  <p class=\"title\">\n",
      "   <b>\n",
      "    The Dormouse's story\n",
      "   </b>\n",
      "  </p>\n",
      "  <p class=\"story\">\n",
      "   Once upon a time there were three little sisters; their names:\n",
      "   <a class=\"sister\" href=\"http://example.com/elsie\" id=\"link1\">\n",
      "    Elsie\n",
      "   </a>\n",
      "   ,\n",
      "   <a class=\"sister\" href=\"http://example.com/lacie\" id=\"link2\">\n",
      "    Lacie\n",
      "   </a>\n",
      "   and\n",
      "   <a class=\"sister\" href=\"http://example.com/tillie\" id=\"link3\">\n",
      "    Tillie\n",
      "   </a>\n",
      "   ;\n",
      "and they lived at the bottom of a well.\n",
      "  </p>\n",
      "  <p class=\"story\">\n",
      "   ...\n",
      "  </p>\n",
      "  <b class=\"boldest\">\n",
      "   Extremely bold\n",
      "  </b>\n",
      "  <blockquote class=\"boldest\">\n",
      "   Extremely bold\n",
      "  </blockquote>\n",
      "  <b id=\"1\">\n",
      "   Test 1\n",
      "  </b>\n",
      "  <b another-attribute=\"1\" id=\"verybold\">\n",
      "   Test 2\n",
      "  </b>\n",
      " </body>\n",
      "</html>\n"
     ]
    }
   ],
   "source": [
    "# Create BeautifulSoup object\n",
    "soup = BeautifulSoup(html_doc, 'lxml')\n",
    "\n",
    "# Use prettify to print content in formatted HTML\n",
    "print(soup.prettify())"
   ]
  },
  {
   "cell_type": "markdown",
   "metadata": {},
   "source": [
    "#### Find specific tags"
   ]
  },
  {
   "cell_type": "code",
   "execution_count": 19,
   "metadata": {},
   "outputs": [
    {
     "name": "stdout",
     "output_type": "stream",
     "text": [
      "<b>The Dormouse's story</b>\n"
     ]
    }
   ],
   "source": [
    "# Find 1st occurence of bold content with HTML tags 'b'\n",
    "print(soup.b)"
   ]
  },
  {
   "cell_type": "code",
   "execution_count": 21,
   "metadata": {},
   "outputs": [
    {
     "name": "stdout",
     "output_type": "stream",
     "text": [
      "<b>The Dormouse's story</b>\n"
     ]
    }
   ],
   "source": [
    "# Alt way to find 1st occurence of bold content with HTML tags 'b'\n",
    "print(soup.find('b'))"
   ]
  },
  {
   "cell_type": "code",
   "execution_count": 20,
   "metadata": {},
   "outputs": [
    {
     "name": "stdout",
     "output_type": "stream",
     "text": [
      "<p class=\"title\"><b>The Dormouse's story</b></p>\n"
     ]
    }
   ],
   "source": [
    "# Find 1st occurence of paragraph content with HTML tags 'p'\n",
    "print(soup.p)"
   ]
  },
  {
   "cell_type": "code",
   "execution_count": 22,
   "metadata": {},
   "outputs": [
    {
     "name": "stdout",
     "output_type": "stream",
     "text": [
      "[<b>The Dormouse's story</b>, <b class=\"boldest\">Extremely bold</b>, <b id=\"1\">Test 1</b>, <b another-attribute=\"1\" id=\"verybold\">Test 2</b>]\n"
     ]
    }
   ],
   "source": [
    "# Find all occurences of bold content with HTML tags 'b'\n",
    "print(soup.find_all('b'))"
   ]
  },
  {
   "cell_type": "code",
   "execution_count": 23,
   "metadata": {},
   "outputs": [
    {
     "name": "stdout",
     "output_type": "stream",
     "text": [
      "b\n"
     ]
    }
   ],
   "source": [
    "# Find name of 1st bold tag 'b'\n",
    "print(soup.b.name)"
   ]
  },
  {
   "cell_type": "code",
   "execution_count": 24,
   "metadata": {},
   "outputs": [
    {
     "name": "stdout",
     "output_type": "stream",
     "text": [
      "<b>The Dormouse's story</b>\n",
      "<blockquote>The Dormouse's story</blockquote>\n"
     ]
    }
   ],
   "source": [
    "# Alter the name of 1st 'b' tag\n",
    "\n",
    "# Create object\n",
    "tag = soup.b\n",
    "print(tag)\n",
    "\n",
    "# Change name\n",
    "tag.name = \"blockquote\"\n",
    "print(tag)"
   ]
  },
  {
   "cell_type": "markdown",
   "metadata": {},
   "source": [
    "#### Find attributes"
   ]
  },
  {
   "cell_type": "code",
   "execution_count": 39,
   "metadata": {},
   "outputs": [
    {
     "name": "stdout",
     "output_type": "stream",
     "text": [
      "<b id=\"1\">Test 1</b>\n"
     ]
    }
   ],
   "source": [
    "# Find specific bold tag\n",
    "tag = soup.find_all('b')[1]\n",
    "print(tag)"
   ]
  },
  {
   "cell_type": "code",
   "execution_count": 40,
   "metadata": {},
   "outputs": [
    {
     "name": "stdout",
     "output_type": "stream",
     "text": [
      "1\n"
     ]
    }
   ],
   "source": [
    "# Access and print id\n",
    "print(tag['id'])"
   ]
  },
  {
   "cell_type": "code",
   "execution_count": 42,
   "metadata": {},
   "outputs": [
    {
     "name": "stdout",
     "output_type": "stream",
     "text": [
      "<b another-attribute=\"1\" id=\"verybold\">Test 2</b>\n"
     ]
    }
   ],
   "source": [
    "# Access another tag\n",
    "tag  =soup.find_all('b')[2]\n",
    "print(tag)"
   ]
  },
  {
   "cell_type": "code",
   "execution_count": 32,
   "metadata": {},
   "outputs": [
    {
     "name": "stdout",
     "output_type": "stream",
     "text": [
      "verybold\n"
     ]
    }
   ],
   "source": [
    "# Access and print tag id like above\n",
    "print(tag['id'])"
   ]
  },
  {
   "cell_type": "code",
   "execution_count": 33,
   "metadata": {},
   "outputs": [
    {
     "name": "stdout",
     "output_type": "stream",
     "text": [
      "1\n"
     ]
    }
   ],
   "source": [
    "# Access and print other attribute\n",
    "print(tag['another-attribute'])"
   ]
  },
  {
   "cell_type": "code",
   "execution_count": 41,
   "metadata": {},
   "outputs": [
    {
     "name": "stdout",
     "output_type": "stream",
     "text": [
      "<b another-attribute=\"1\" id=\"verybold\">Test 2</b>\n",
      "{'another-attribute': '1', 'id': 'verybold'}\n"
     ]
    }
   ],
   "source": [
    "# Print tag\n",
    "print(tag)\n",
    "\n",
    "# Print all attributes of specific tag\n",
    "print(tag.attrs)"
   ]
  },
  {
   "cell_type": "code",
   "execution_count": 43,
   "metadata": {},
   "outputs": [
    {
     "name": "stdout",
     "output_type": "stream",
     "text": [
      "<b another-attribute=\"1\" id=\"verybold\">Test 2</b>\n",
      "<b another-attribute=\"2\" id=\"verybold\">Test 2</b>\n"
     ]
    }
   ],
   "source": [
    "# Change values of attributes\n",
    "print(tag)\n",
    "tag['another-attribute'] = 2 # Change value of 'another-attribute'\n",
    "print(tag)"
   ]
  },
  {
   "cell_type": "code",
   "execution_count": 44,
   "metadata": {},
   "outputs": [
    {
     "name": "stdout",
     "output_type": "stream",
     "text": [
      "<b another-attribute=\"2\" id=\"verybold\">Test 2</b>\n",
      "<b another-attribute=\"2\">Test 2</b>\n"
     ]
    }
   ],
   "source": [
    "# Delete an attribute from a tag\n",
    "print(tag)\n",
    "del tag['id'] # Delete 'id' attribute\n",
    "print(tag)"
   ]
  },
  {
   "cell_type": "code",
   "execution_count": 45,
   "metadata": {},
   "outputs": [
    {
     "name": "stdout",
     "output_type": "stream",
     "text": [
      "<b another-attribute=\"2\">Test 2</b>\n",
      "<b>Test 2</b>\n"
     ]
    }
   ],
   "source": [
    "# Delete another attribute from a tag\n",
    "print(tag)\n",
    "del tag['another-attribute'] # Delete 'another-attribute' attribute\n",
    "print(tag)"
   ]
  },
  {
   "cell_type": "markdown",
   "metadata": {},
   "source": [
    "#### Navigate strings"
   ]
  },
  {
   "cell_type": "code",
   "execution_count": 47,
   "metadata": {},
   "outputs": [
    {
     "name": "stdout",
     "output_type": "stream",
     "text": [
      "<b>Test 2</b>\n",
      "Test 2\n"
     ]
    }
   ],
   "source": [
    "# Define tag to work with\n",
    "tag = soup.find_all('b')[2]\n",
    "print(tag) # Print entire tag\n",
    "print(tag.string) # Print only the content between tags"
   ]
  },
  {
   "cell_type": "code",
   "execution_count": 49,
   "metadata": {},
   "outputs": [
    {
     "name": "stdout",
     "output_type": "stream",
     "text": [
      "<b>This is another string</b>\n"
     ]
    }
   ],
   "source": [
    "# Alter the string content between tags\n",
    "tag.string.replace_with(\"This is another string\")  # Replace content with new string\n",
    "print(tag)"
   ]
  }
 ],
 "metadata": {
  "kernelspec": {
   "display_name": "Python 3",
   "language": "python",
   "name": "python3"
  },
  "language_info": {
   "codemirror_mode": {
    "name": "ipython",
    "version": 3
   },
   "file_extension": ".py",
   "mimetype": "text/x-python",
   "name": "python",
   "nbconvert_exporter": "python",
   "pygments_lexer": "ipython3",
   "version": "3.7.1"
  }
 },
 "nbformat": 4,
 "nbformat_minor": 2
}
